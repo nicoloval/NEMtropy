{
 "cells": [
  {
   "cell_type": "markdown",
   "metadata": {},
   "source": [
    "The aim of this notebook is to show the user how to compute the anallytical expectation of dyadic motifs given the solution of the Directed Configuration Model.\n",
    "Tools to define the statistical significance of the observed numerosity of dyadic motifs are provided.\n",
    "Because Dyadic motifs are well defined on networks binary and directed, the analytical results presented here work only on `dcm` and `dcm_exp` models."
   ]
  },
  {
   "cell_type": "markdown",
   "metadata": {},
   "source": [
    "## 1 Observed Dyads"
   ]
  },
  {
   "cell_type": "markdown",
   "metadata": {},
   "source": [
    "FIrst let's give some context by defining what are dyadic motifs.\n",
    "On a directed network $G(N, E)$, given two nodes $i,j \\in E$ you can observe three disjoint possibilities:\n",
    "- a __reciprocated dyad__: $(i,j), (j,i) \\in E$, meaning a connection exists both from $i$ to $j$ and vice versa. We denote the total number of reciprocated dyads in the network as $L^{\\leftrightarrow}$\n",
    "$$\n",
    "L^\\leftrightarrow = \\sum_{i\\neq j}a_{ij}a_{ji}\n",
    "$$\n",
    "- non __reciprocated dyad__: $(i,j)\\in E$ or $(j,i)\\in E$, meaning only one of the two possible links exists. We denote the total number of non reciprocated dyads as $L^{\\rightarrow}$\n",
    "$$\n",
    "L^\\rightarrow = \\sum_{i\\neq j}a_{ij}(1-a_{ji})\n",
    "$$\n",
    "- __empty dyad__$(i,j), (j,i) \\notin E$, meaning no link exists between the two nodes.\n",
    "    The total number of empty dyads is denoted by $L^{\\nleftrightarrow}$\n",
    "$$\n",
    "L^\\nleftrightarrow = \\sum_{i\\neq j}(1-a_{ij})(1-a_{ji})\n",
    "$$\n"
   ]
  },
  {
   "cell_type": "markdown",
   "metadata": {},
   "source": [
    "Now, we load the module `NEMtropy.matrix_generator` in order to work with networks on python in general and, in the specific, in order to load a graph to start experimenting on:"
   ]
  },
  {
   "cell_type": "code",
   "execution_count": 27,
   "metadata": {},
   "outputs": [
    {
     "name": "stdout",
     "output_type": "stream",
     "text": [
      "[[0. 1. 0. 1. 1.]\n",
      " [0. 0. 1. 1. 1.]\n",
      " [0. 1. 0. 1. 1.]\n",
      " [1. 0. 0. 0. 1.]\n",
      " [1. 1. 1. 1. 0.]]\n"
     ]
    }
   ],
   "source": [
    "import NEMtropy.matrix_generator as mg\n",
    "\n",
    "# \n",
    "A = mg.random_binary_matrix_generator_custom_density(5,\n",
    "                                                           0.6,\n",
    "                                                           sym=False)\n",
    "\n",
    "print(A)"
   ]
  },
  {
   "cell_type": "markdown",
   "metadata": {},
   "source": [
    "Now, the first interesting thing we can do is to compute the numerosity of the three types of dyads we described before. \n",
    "\n",
    "`NEMtropy` provides us functions to achieve this: functions related to computing measures directly on a given networks are contained in `network_functions`:\n",
    "- `NEMtropy.network_functions.dyads_count()`\n",
    "- `NEMtropy.network_functions.singles_count()`\n",
    "- `NEMtropy.network_functions.zeros_count()`"
   ]
  },
  {
   "cell_type": "code",
   "execution_count": 52,
   "metadata": {},
   "outputs": [
    {
     "name": "stdout",
     "output_type": "stream",
     "text": [
      " number of reciprocated dyads = 12\n",
      " number of non reciprocated dyads = 3\n",
      " number of empty dyads = 2\n"
     ]
    }
   ],
   "source": [
    "import NEMtropy.network_functions as nf\n",
    "\n",
    "full_dyads = nf.dyads_count(A)\n",
    "print(f' number of reciprocated dyads = {full_dyads}')\n",
    "single_dyads = nf.singles_count(A)\n",
    "print(f' number of non reciprocated dyads = {single_dyads}')\n",
    "zeros_dyads = nf.zeros_count(A)\n",
    "print(f' number of empty dyads = {zeros_dyads}')"
   ]
  },
  {
   "cell_type": "markdown",
   "metadata": {},
   "source": [
    "# 2 Expected dyads"
   ]
  },
  {
   "cell_type": "markdown",
   "metadata": {},
   "source": [
    "Now let's solve the `dcm` problem associated to `A`"
   ]
  },
  {
   "cell_type": "code",
   "execution_count": 35,
   "metadata": {},
   "outputs": [
    {
     "name": "stdout",
     "output_type": "stream",
     "text": [
      "\n",
      "solution error = 4.214967042059925e-09\n"
     ]
    }
   ],
   "source": [
    "import NEMtropy as nem  # we finally need the whole module\n",
    "import sys\n",
    "\n",
    "# load adjacency matrix A as a Directed Graph object in NEMtropy\n",
    "G = nem.DirectedGraph(A)\n",
    "\n",
    "# solve the dcm problem\n",
    "G.solve_tool(model=\"dcm_exp\",\n",
    "                method=\"newton\",\n",
    "                initial_guess=\"random\")\n"
   ]
  },
  {
   "cell_type": "code",
   "execution_count": 8,
   "metadata": {},
   "outputs": [],
   "source": [
    "# We read one of the edgelists\n",
    "edgelist_ens = np.loadtxt(\"sample/0.txt\")\n",
    "\n",
    "# and build the adjacency matrix\n",
    "ens_adj = build_adjacency_from_edgelist(edgelist = edgelist_ens,\n",
    "                                        is_directed = True,\n",
    "                                        is_sparse = False,\n",
    "                                        is_weighted = False)"
   ]
  },
  {
   "cell_type": "markdown",
   "metadata": {},
   "source": [
    "Nice! the solution error is close to zero, meaning we have a good solution."
   ]
  },
  {
   "cell_type": "markdown",
   "metadata": {},
   "source": [
    "### 2.1 Analytical z-score"
   ]
  },
  {
   "cell_type": "markdown",
   "metadata": {},
   "source": [
    "NEMtropy class DirectedGraph offers us function `motifs_2_zscore()` to compute the analytical z-score for each of the three dyads categories. \n",
    "Remind that the z-score of a r.v. $X$ is defined as $z[X]:\n",
    "\n",
    "$$\n",
    "z[X] = \\frac{X^*[A] - \\mu[x]}{\\sigma[X]}\n",
    "$$\n",
    "\n",
    "where:\n",
    "- $X^*[A]$ is the value of computed on the actual adjacency matrix $A$\n",
    "- $\\mu[X]$ is $X$ expected value\n",
    "- $\\sigma[X]$ is $X$ standard deviation"
   ]
  },
  {
   "cell_type": "code",
   "execution_count": 38,
   "metadata": {
    "scrolled": false
   },
   "outputs": [
    {
     "data": {
      "text/plain": [
       "{'dyads': 0.19844804186930978,\n",
       " 'singles': -0.36418523782950074,\n",
       " 'zeros': 0.2940475594491965}"
      ]
     },
     "execution_count": 38,
     "metadata": {},
     "output_type": "execute_result"
    }
   ],
   "source": [
    "G.motifs_2_zscore()"
   ]
  },
  {
   "cell_type": "markdown",
   "metadata": {},
   "source": [
    "### 2.2 Empirical z-score\n",
    "\n",
    "Of course we can use the sampling function in order to compute the dyads z-score empirically. The results obtained should be close to the analytical results as the numerosity of the sample increases.\n",
    "\n",
    "First we sample 100 graphs from the DCM ensemble enerated by the solution:"
   ]
  },
  {
   "cell_type": "code",
   "execution_count": 47,
   "metadata": {},
   "outputs": [],
   "source": [
    "# We generate an ensemble copy\n",
    "n = 1000\n",
    "G.ensemble_sampler(n, cpu_n=2, output_dir=\"sample/\")"
   ]
  },
  {
   "cell_type": "markdown",
   "metadata": {},
   "source": [
    "now, for each graph in the sampling we compute empirical expected value and standard deviation of the dyads variables.\n",
    "\n",
    "To compute the dyads we can resort to the network functions we saw in the first paragraph"
   ]
  },
  {
   "cell_type": "code",
   "execution_count": null,
   "metadata": {},
   "outputs": [],
   "source": [
    "import networkx as nx\n",
    "\n",
    "# memory pre-allocation\n",
    "emp_dyads = np.zeros(n)\n",
    "emp_singles = np.zeros(n)\n",
    "emp_zeros = np.zeros(n)\n",
    "\n",
    "for i in range(n):\n",
    "    # Read the graph as an edgelist\n",
    "    edgelist_ens = np.loadtxt(f\"sample/{i}.txt\")\n",
    "    # read the graph in networkx \n",
    "    graph = nx.DiGraph()\n",
    "    graph.add_edges_from(edgelist_ens.astype(int))\n",
    "    # create adjacency matrix as numpy array\n",
    "    a = nx.to_numpy_array(graph)\n",
    "    # compute dyads numerosity\n",
    "    emp_dyads[i] = nf.dyads_count(a)\n",
    "    emp_singles[i] = nf.singles_count(a)\n",
    "    emp_zeros[i] = nf.zeros_count(a)"
   ]
  },
  {
   "cell_type": "markdown",
   "metadata": {},
   "source": [
    "We procude three arrays containing for each dyad the numerosity computed on each sampled graph.\n",
    "We are now able to compute the z-score for each dyad category"
   ]
  },
  {
   "cell_type": "code",
   "execution_count": 51,
   "metadata": {},
   "outputs": [
    {
     "name": "stdout",
     "output_type": "stream",
     "text": [
      "{'dyads': 0.22710883844423013, 'singles': -0.38927849101120254, 'zeros': 0.3173233126331804}\n"
     ]
    }
   ],
   "source": [
    "z_score = {}\n",
    "emp_mu = np.mean(emp_dyads)\n",
    "emp_std = np.std(emp_dyads)\n",
    "z_score['dyads'] = (nf.dyads_count(A) - emp_mu)/emp_std\n",
    "emp_mu = np.mean(emp_singles)\n",
    "emp_std = np.std(emp_singles)\n",
    "z_score['singles'] = (nf.singles_count(A) - emp_mu)/emp_std\n",
    "emp_mu = np.mean(emp_zeros)\n",
    "emp_std = np.std(emp_zeros)\n",
    "z_score['zeros'] = (nf.zeros_count(A) - emp_mu)/emp_std\n",
    "\n",
    "print(z_score)"
   ]
  },
  {
   "cell_type": "markdown",
   "metadata": {},
   "source": [
    "As you can observe, while the empirical results is not perfectly coincident with the analytical one, they are close enough to be considered satisfactory."
   ]
  }
 ],
 "metadata": {
  "kernelspec": {
   "display_name": "Python 3",
   "language": "python",
   "name": "python3"
  },
  "language_info": {
   "codemirror_mode": {
    "name": "ipython",
    "version": 3
   },
   "file_extension": ".py",
   "mimetype": "text/x-python",
   "name": "python",
   "nbconvert_exporter": "python",
   "pygments_lexer": "ipython3",
   "version": "3.8.10"
  }
 },
 "nbformat": 4,
 "nbformat_minor": 4
}
