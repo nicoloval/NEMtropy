{
 "cells": [
  {
   "cell_type": "markdown",
   "metadata": {},
   "source": [
    "The aim of this notebook is to show the user how to compute the anallytical expectation of dyadic motifs given the solution of the Directed Configuration Model.\n",
    "Tools to define the statistical significance of the observed numerosity of dyadic motifs are provided.\n",
    "Because Dyadic motifs are well defined on networks binary and directed, the analytical results presented here work only on `dcm` and `dcm_exp` models."
   ]
  },
  {
   "cell_type": "markdown",
   "metadata": {},
   "source": [
    "## 1 Observed Dyads"
   ]
  },
  {
   "cell_type": "markdown",
   "metadata": {},
   "source": [
    "FIrst let's give some context by defining what are dyadic motifs.\n",
    "On a directed network $G(N, E)$, given two nodes $i,j \\in E$ you can observe three disjoint possibilities:\n",
    "- a __reciprocated dyad__: $(i,j), (j,i) \\in E$, meaning a connection exists both from $i$ to $j$ and vice versa. We denote the total number of reciprocated dyads in the network as $L^{\\leftrightarrow}$\n",
    "$$\n",
    "L^\\leftrightarrow = \\sum_{i\\neq j}a_{ij}a_{ji}\n",
    "$$\n",
    "- non __reciprocated dyad__: $(i,j)\\in E$ or $(j,i)\\in E$, meaning only one of the two possible links exists. We denote the total number of non reciprocated dyads as $L^{\\rightarrow}$\n",
    "$$\n",
    "L^\\rightarrow = \\sum_{i\\neq j}a_{ij}(1-a_{ji})\n",
    "$$\n",
    "- __empty dyad__$(i,j), (j,i) \\notin E$, meaning no link exists between the two nodes.\n",
    "    The total number of empty dyads is denoted by $L^{\\nleftrightarrow}$\n",
    "$$\n",
    "L^\\nleftrightarrow = \\sum_{i\\neq j}(1-a_{ij})(1-a_{ji})\n",
    "$$\n"
   ]
  },
  {
   "cell_type": "markdown",
   "metadata": {},
   "source": [
    "Now, we load the module `NEMtropy.matrix_generator` in order to work with networks on python in general and, in the specific, in order to load a graph to start experimenting on:"
   ]
  },
  {
   "cell_type": "code",
   "execution_count": 8,
   "metadata": {},
   "outputs": [
    {
     "name": "stdout",
     "output_type": "stream",
     "text": [
      "[[0. 1. 1. 0. 1.]\n",
      " [1. 0. 0. 1. 1.]\n",
      " [0. 1. 0. 1. 1.]\n",
      " [0. 0. 1. 0. 1.]\n",
      " [1. 0. 0. 1. 0.]]\n"
     ]
    }
   ],
   "source": [
    "import NEMtropy as nem\n",
    "from NEMtropy.matrix_generator import random_binary_matrix_generator_custom_density\n",
    "\n",
    "# \n",
    "A = random_binary_matrix_generator_custom_density(5,\n",
    "                                                  0.6,\n",
    "                                                  sym=False,\n",
    "                                                  seed=100)\n",
    "\n",
    "print(A)"
   ]
  },
  {
   "cell_type": "markdown",
   "metadata": {},
   "source": [
    "Now, the first interesting thing we can do is to compute the numerosity of the three types of dyads we described before. \n",
    "\n",
    "`NEMtropy` provides us functions to achieve this: functions related to computing measures directly on a given networks are contained in `network_functions`:\n",
    "- `NEMtropy.network_functions.dyads_count()`\n",
    "- `NEMtropy.network_functions.singles_count()`\n",
    "- `NEMtropy.network_functions.zeros_count()`"
   ]
  },
  {
   "cell_type": "code",
   "execution_count": 9,
   "metadata": {},
   "outputs": [
    {
     "name": "stdout",
     "output_type": "stream",
     "text": [
      " number of reciprocated dyads = 8\n",
      " number of non reciprocated dyads = 5\n",
      " number of empty dyads = 2\n"
     ]
    }
   ],
   "source": [
    "from NEMtropy.network_functions import dyads_count, singles_count, zeros_count\n",
    "\n",
    "full_dyads = dyads_count(A)\n",
    "print(f' number of reciprocated dyads = {full_dyads}')\n",
    "single_dyads = singles_count(A)\n",
    "print(f' number of non reciprocated dyads = {single_dyads}')\n",
    "zeros_dyads = zeros_count(A)\n",
    "print(f' number of empty dyads = {zeros_dyads}')"
   ]
  },
  {
   "cell_type": "markdown",
   "metadata": {},
   "source": [
    "# 2 Expected dyads"
   ]
  },
  {
   "cell_type": "markdown",
   "metadata": {},
   "source": [
    "Now let's solve the `dcm` problem associated to `A`"
   ]
  },
  {
   "cell_type": "code",
   "execution_count": 10,
   "metadata": {},
   "outputs": [
    {
     "name": "stdout",
     "output_type": "stream",
     "text": [
      "\n",
      "solution error = 2.5290880500961066e-12\n"
     ]
    },
    {
     "name": "stderr",
     "output_type": "stream",
     "text": [
      "/home/nico/.local/lib/python3.8/site-packages/numba/core/utils.py:451: NumbaExperimentalFeatureWarning: \u001b[1mFirst-class function type feature is experimental\u001b[0m\n",
      "  warnings.warn(\"First-class function type feature is experimental\",\n"
     ]
    }
   ],
   "source": [
    "# load adjacency matrix A as a Directed Graph object in NEMtropy\n",
    "G = nem.DirectedGraph(A)\n",
    "\n",
    "# solve the dcm problem\n",
    "G.solve_tool(model=\"dcm_exp\",\n",
    "                method=\"newton\",\n",
    "                initial_guess=\"random\")\n"
   ]
  },
  {
   "cell_type": "markdown",
   "metadata": {},
   "source": [
    "Nice! the solution error is close to zero, meaning we have a good solution."
   ]
  },
  {
   "cell_type": "markdown",
   "metadata": {},
   "source": [
    "### 2.1 Analytical z-score"
   ]
  },
  {
   "cell_type": "markdown",
   "metadata": {},
   "source": [
    "NEMtropy class DirectedGraph offers us function `motifs_2_zscore()` to compute the analytical z-score for each of the three dyads categories. \n",
    "Remind that the z-score of a r.v. $X$ is defined as $z[X]$:\n",
    "\n",
    "$$\n",
    "z[X] = \\frac{X^*[A] - \\mu[x]}{\\sigma[X]}\n",
    "$$\n",
    "\n",
    "where:\n",
    "- $X^*[A]$ is the value of $X$ computed on the actual adjacency matrix $A$\n",
    "- $\\mu[X]$ is $X$ expected value\n",
    "- $\\sigma[X]$ is $X$ standard deviation"
   ]
  },
  {
   "cell_type": "code",
   "execution_count": 29,
   "metadata": {
    "scrolled": false
   },
   "outputs": [
    {
     "name": "stdout",
     "output_type": "stream",
     "text": [
      "{'dyads': 0.07047100104601167, 'singles': -0.13523627835427715, 'zeros': 0.12109489188171507}\n"
     ]
    }
   ],
   "source": [
    "z_score_analytical = G.motifs_2_zscore()\n",
    "print(z_score_analytical)"
   ]
  },
  {
   "cell_type": "markdown",
   "metadata": {},
   "source": [
    "### 2.2 Empirical z-score\n",
    "\n",
    "Of course we can use the sampling function in order to compute the dyads z-score empirically. The results obtained should be close to the analytical results as the numerosity of the sample increases.\n",
    "\n",
    "First we sample 100 graphs from the DCM ensemble enerated by the solution:"
   ]
  },
  {
   "cell_type": "code",
   "execution_count": 12,
   "metadata": {},
   "outputs": [],
   "source": [
    "# We generate an ensemble copy\n",
    "n = 1000\n",
    "G.ensemble_sampler(n, cpu_n=2, output_dir=\"sample/\")"
   ]
  },
  {
   "cell_type": "markdown",
   "metadata": {},
   "source": [
    "now, for each graph in the sampling we compute empirical expected value and standard deviation of the dyads variables.\n",
    "\n",
    "To compute the dyads we resort to the network functions we saw in the first paragraph"
   ]
  },
  {
   "cell_type": "code",
   "execution_count": 13,
   "metadata": {},
   "outputs": [],
   "source": [
    "import networkx as nx\n",
    "import numpy as np\n",
    "\n",
    "# memory pre-allocation\n",
    "emp_dyads = np.zeros(n)\n",
    "emp_singles = np.zeros(n)\n",
    "emp_zeros = np.zeros(n)\n",
    "\n",
    "for i in range(n):\n",
    "    # Read the graph as an edgelist\n",
    "    edgelist_ens = np.loadtxt(f\"sample/{i}.txt\")\n",
    "    # read the graph in networkx \n",
    "    graph = nx.DiGraph()\n",
    "    graph.add_edges_from(edgelist_ens.astype(int))\n",
    "    # create adjacency matrix as numpy array\n",
    "    a = nx.to_numpy_array(graph)\n",
    "    # compute dyads numerosity\n",
    "    emp_dyads[i] = dyads_count(a)\n",
    "    emp_singles[i] = singles_count(a)\n",
    "    emp_zeros[i] = zeros_count(a)"
   ]
  },
  {
   "cell_type": "markdown",
   "metadata": {},
   "source": [
    "For each dyad category we initialize a numpy array as long as the sample numerosity.\n",
    "We are now able to compute the z-score for each dyad category"
   ]
  },
  {
   "cell_type": "code",
   "execution_count": 15,
   "metadata": {},
   "outputs": [
    {
     "name": "stdout",
     "output_type": "stream",
     "text": [
      "{'dyads': 0.06337242505244785, 'singles': -0.13527569812304224, 'zeros': 0.12801685756908027}\n"
     ]
    }
   ],
   "source": [
    "z_score = {}\n",
    "emp_mu = np.mean(emp_dyads)\n",
    "emp_std = np.std(emp_dyads)\n",
    "z_score['dyads'] = (dyads_count(A) - emp_mu)/emp_std\n",
    "emp_mu = np.mean(emp_singles)\n",
    "emp_std = np.std(emp_singles)\n",
    "z_score['singles'] = (singles_count(A) - emp_mu)/emp_std\n",
    "emp_mu = np.mean(emp_zeros)\n",
    "emp_std = np.std(emp_zeros)\n",
    "z_score['zeros'] = (zeros_count(A) - emp_mu)/emp_std\n",
    "\n",
    "print(z_score)"
   ]
  },
  {
   "cell_type": "markdown",
   "metadata": {},
   "source": [
    "As you can observe, while the empirical results is not perfectly coincident with the analytical one, they are close enough to be considered satisfactory. \n",
    "\n",
    "**But the inquisitive minds would ask themselve: am I sure is it close enough? And is it converging?**\n",
    "\n",
    "Well, let's see."
   ]
  },
  {
   "cell_type": "markdown",
   "metadata": {},
   "source": [
    "### 3.3 Empirical sequence convergence to analytical value"
   ]
  },
  {
   "cell_type": "code",
   "execution_count": 33,
   "metadata": {},
   "outputs": [],
   "source": [
    "# memory pre-allocation\n",
    "sample_numerosity = list(range(10,1010,50))\n",
    "z_score_empirical ={\n",
    "    'dyads': [],\n",
    "    'singles': [],\n",
    "    'zeros': []\n",
    "}\n",
    "for n in sample_numerosity: \n",
    "    emp_dyads = np.zeros(n)\n",
    "    emp_singles = np.zeros(n)\n",
    "    emp_zeros = np.zeros(n)\n",
    "\n",
    "    for i in range(n):\n",
    "        # Read the graph as an edgelist\n",
    "        edgelist_ens = np.loadtxt(f\"sample/{i}.txt\")\n",
    "        # read the graph in networkx \n",
    "        graph = nx.DiGraph()\n",
    "        graph.add_edges_from(edgelist_ens.astype(int))\n",
    "        # create adjacency matrix as numpy array\n",
    "        a = nx.to_numpy_array(graph)\n",
    "        # compute dyads numerosity\n",
    "        emp_dyads[i] = dyads_count(a)\n",
    "        emp_singles[i] = singles_count(a)\n",
    "        emp_zeros[i] = zeros_count(a)\n",
    "\n",
    "    emp_mu = np.mean(emp_dyads)\n",
    "    emp_std = np.std(emp_dyads)\n",
    "    z_score_empirical['dyads'].append((dyads_count(A) - emp_mu)/emp_std)\n",
    "    emp_mu = np.mean(emp_singles)\n",
    "    emp_std = np.std(emp_singles)\n",
    "    z_score_empirical['singles'].append((singles_count(A) - emp_mu)/emp_std)\n",
    "    emp_mu = np.mean(emp_zeros)\n",
    "    emp_std = np.std(emp_zeros)\n",
    "    z_score_empirical['zeros'].append((zeros_count(A) - emp_mu)/emp_std)"
   ]
  },
  {
   "cell_type": "code",
   "execution_count": 44,
   "metadata": {},
   "outputs": [
    {
     "data": {
      "image/png": "[encoded data removed]",
      "text/plain": [
       "<Figure size 432x288 with 1 Axes>"
      ]
     },
     "metadata": {
      "needs_background": "light"
     },
     "output_type": "display_data"
    },
    {
     "data": {
      "image/png": "[encoded data removed]",
      "text/plain": [
       "<Figure size 432x288 with 1 Axes>"
      ]
     },
     "metadata": {
      "needs_background": "light"
     },
     "output_type": "display_data"
    },
    {
     "data": {
      "image/png": "[encoded data removed]",
      "text/plain": [
       "<Figure size 432x288 with 1 Axes>"
      ]
     },
     "metadata": {
      "needs_background": "light"
     },
     "output_type": "display_data"
    }
   ],
   "source": [
    "import matplotlib.pyplot as plt\n",
    "\n",
    "for data in ['dyads', 'singles', 'zeros']:\n",
    "    plt.figure()\n",
    "\n",
    "    plt.plot(\n",
    "        sample_numerosity,\n",
    "        z_score_empirical[data],\n",
    "        color = 'blue',\n",
    "        marker='o', \n",
    "        linestyle='dashed',\n",
    "        label = 'empirical'\n",
    "        )\n",
    "\n",
    "    plt.hlines(\n",
    "        y = z_score_analytical[data],\n",
    "        xmin = sample_numerosity[0],\n",
    "        xmax = sample_numerosity[-1],\n",
    "        color = 'red',\n",
    "        label = 'analytical'\n",
    "    )\n",
    "\n",
    "    plt.xlabel('sample size')\n",
    "    plt.ylabel('z score')\n",
    "    plt.legend(loc='center right')\n",
    "    plt.title(f'{data}')\n",
    "    plt.show()"
   ]
  },
  {
   "cell_type": "markdown",
   "metadata": {},
   "source": [
    "Well these three figures should convince even the skeptical soul that we are onto something here: the empirical sequence is converging to the analytical prediction."
   ]
  }
 ],
 "metadata": {
  "kernelspec": {
   "display_name": "Python 3",
   "language": "python",
   "name": "python3"
  },
  "language_info": {
   "codemirror_mode": {
    "name": "ipython",
    "version": 3
   },
   "file_extension": ".py",
   "mimetype": "text/x-python",
   "name": "python",
   "nbconvert_exporter": "python",
   "pygments_lexer": "ipython3",
   "version": "3.8.10"
  }
 },
 "nbformat": 4,
 "nbformat_minor": 4
}
