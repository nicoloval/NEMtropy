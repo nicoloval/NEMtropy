{
 "cells": [
  {
   "cell_type": "code",
   "execution_count": 1,
   "metadata": {},
   "outputs": [],
   "source": [
    "import sys\n",
    "sys.path.append('..')\n",
    "from NEMtropy import *\n",
    "# import bicm\n",
    "# from bicm import *\n",
    "import numpy as np"
   ]
  },
  {
   "cell_type": "markdown",
   "metadata": {},
   "source": [
    "This test uses a plant-pollinator network from Petanidou, T. (1991). Pollination ecology in a phryganic ecosystem.\n",
    "This script is run on an ordinary laptop."
   ]
  },
  {
   "cell_type": "code",
   "execution_count": 2,
   "metadata": {},
   "outputs": [],
   "source": [
    "biad_mat_names = np.loadtxt('test_dataset_bicm.csv', delimiter=',', dtype=str)\n",
    "plants = biad_mat_names[1:,0]\n",
    "pollinators = biad_mat_names[0, 1:]\n",
    "biad_mat = biad_mat_names[1:, 1:].astype(np.ubyte)\n",
    "plants_dict = dict(enumerate(np.unique(plants)))\n",
    "plants_inv_dict = {v:k for k,v in plants_dict.items()}\n",
    "pollinators_dict = dict(enumerate(np.unique(pollinators)))\n",
    "pollinators_inv_dict = {v:k for k,v in pollinators_dict.items()}"
   ]
  },
  {
   "cell_type": "code",
   "execution_count": 3,
   "metadata": {},
   "outputs": [],
   "source": [
    "from scipy.sparse import *"
   ]
  },
  {
   "cell_type": "code",
   "execution_count": 4,
   "metadata": {},
   "outputs": [],
   "source": [
    "sp_mat = csr_matrix(biad_mat)"
   ]
  },
  {
   "cell_type": "code",
   "execution_count": 5,
   "metadata": {},
   "outputs": [],
   "source": [
    "bg = BipartiteGraph(sp_mat)"
   ]
  },
  {
   "cell_type": "code",
   "execution_count": 6,
   "metadata": {},
   "outputs": [
    {
     "data": {
      "text/plain": [
       "<131x666 sparse matrix of type '<class 'numpy.uint8'>'\n",
       "\twith 2933 stored elements in Compressed Sparse Row format>"
      ]
     },
     "execution_count": 6,
     "metadata": {},
     "output_type": "execute_result"
    }
   ],
   "source": [
    "bg.biadjacency"
   ]
  },
  {
   "cell_type": "code",
   "execution_count": 7,
   "metadata": {},
   "outputs": [],
   "source": [
    "red_mat = bg.initialize_avg_mat()"
   ]
  },
  {
   "cell_type": "code",
   "execution_count": 8,
   "metadata": {},
   "outputs": [
    {
     "name": "stderr",
     "output_type": "stream",
     "text": [
      "/home/matteo/miniconda3/envs/bicm/lib/python3.10/site-packages/numba/core/utils.py:612: NumbaExperimentalFeatureWarning: First-class function type feature is experimental\n",
      "  warnings.warn(\"First-class function type feature is experimental\",\n",
      "/home/matteo/miniconda3/envs/bicm/lib/python3.10/site-packages/bicm-3.1-py3.10.egg/bicm/models_functions.py:326: NumbaExperimentalFeatureWarning: First-class function type feature is experimental\n",
      "  step_fun = args[0]\n",
      "/home/matteo/miniconda3/envs/bicm/lib/python3.10/site-packages/bicm-3.1-py3.10.egg/bicm/models_functions.py:327: NumbaExperimentalFeatureWarning: First-class function type feature is experimental\n",
      "  arg_step_fun = args[1]\n"
     ]
    },
    {
     "name": "stdout",
     "output_type": "stream",
     "text": [
      "max rows error = 7.144598246355827e-10\n",
      "max columns error = 2.1845778519491432e-09\n",
      "total error = 4.569068901005835e-09\n",
      "Solver converged.\n"
     ]
    },
    {
     "name": "stderr",
     "output_type": "stream",
     "text": [
      "/home/matteo/miniconda3/envs/bicm/lib/python3.10/site-packages/numba/core/utils.py:612: NumbaExperimentalFeatureWarning: First-class function type feature is experimental\n",
      "  warnings.warn(\"First-class function type feature is experimental\",\n"
     ]
    }
   ],
   "source": [
    "bg.solve_tool()"
   ]
  },
  {
   "cell_type": "markdown",
   "metadata": {},
   "source": [
    "You can manipulate a data structure into another with the functions of the package. It supports biadjacency matrices (numpy arrays or scipy sparse matrices), edgelists, adjacency lists (dictionaries) or just the degree sequences."
   ]
  },
  {
   "cell_type": "markdown",
   "metadata": {},
   "source": [
    "Let's create an edgelist with names."
   ]
  },
  {
   "cell_type": "code",
   "execution_count": 9,
   "metadata": {},
   "outputs": [
    {
     "name": "stdout",
     "output_type": "stream",
     "text": [
      "[('\"Acanthus spinosus\"', '\"Acmaeodera bipunctata \"'), ('\"Acanthus spinosus\"', '\"Adia cinerella \"'), ('\"Acanthus spinosus\"', '\"Alophora pusilla\"'), ('\"Acanthus spinosus\"', '\"Amasis lateralis\"'), ('\"Acanthus spinosus\"', '\"Amasis similis\"')]\n"
     ]
    }
   ],
   "source": [
    "# These data type converters return additional objects, keeping track of the node labeling and the node degrees.\n",
    "# The desired data structure is always at index 0. Check the documentation for more info.\n",
    "edgelist = edgelist_from_biadjacency(biad_mat)[0]\n",
    "edgelist_names = [(plants_dict[edge[0]], pollinators_dict[edge[1]]) for edge in edgelist]\n",
    "print(edgelist_names[:5])"
   ]
  },
  {
   "cell_type": "markdown",
   "metadata": {},
   "source": [
    "Now we can use the edgelist to create the bipartite graph. In two ways:"
   ]
  },
  {
   "cell_type": "code",
   "execution_count": 10,
   "metadata": {},
   "outputs": [],
   "source": [
    "myGraph = BipartiteGraph(edgelist=edgelist_names)"
   ]
  },
  {
   "cell_type": "code",
   "execution_count": 11,
   "metadata": {},
   "outputs": [],
   "source": [
    "myGraph = BipartiteGraph()\n",
    "myGraph.set_edgelist(edgelist_names)"
   ]
  },
  {
   "cell_type": "markdown",
   "metadata": {},
   "source": [
    "And now let's simply compute the bicm! This should run instantly. The solver checks that the solution is correct automatically."
   ]
  },
  {
   "cell_type": "code",
   "execution_count": 12,
   "metadata": {},
   "outputs": [
    {
     "name": "stdout",
     "output_type": "stream",
     "text": [
      "max rows error = 7.144598246355827e-10\n",
      "max columns error = 2.1845778519491432e-09\n",
      "total error = 4.569068901005835e-09\n",
      "Solver converged.\n",
      "Yielded data type is: <class 'dict'>\n"
     ]
    },
    {
     "name": "stderr",
     "output_type": "stream",
     "text": [
      "/home/matteo/miniconda3/envs/bicm/lib/python3.10/site-packages/numba/core/utils.py:612: NumbaExperimentalFeatureWarning: First-class function type feature is experimental\n",
      "  warnings.warn(\"First-class function type feature is experimental\",\n"
     ]
    }
   ],
   "source": [
    "myGraph.solve_tool()\n",
    "dict_x, dict_y = myGraph.get_bicm_fitnesses()\n",
    "print('Yielded data type is:', type(dict_x))"
   ]
  },
  {
   "cell_type": "markdown",
   "metadata": {},
   "source": [
    "The computed fitnesses are given as dictionaries, keeping track of the name of the nodes. If you are sure about the order of the fitnesses, you can get separately the fitness vectors and the dictionaries that keep track of the order of the nodes:"
   ]
  },
  {
   "cell_type": "code",
   "execution_count": 13,
   "metadata": {},
   "outputs": [],
   "source": [
    "x = myGraph.x\n",
    "y = myGraph.y\n",
    "rows_dict = myGraph.rows_dict\n",
    "cols_dict = myGraph.cols_dict"
   ]
  },
  {
   "cell_type": "markdown",
   "metadata": {},
   "source": [
    "Alternatively, you can have the bicm matrix of probabilities, whose entries i, j are the bicm probabilities of having a link between nodes i and j (who will correspond to rows_dict[i] and cols_dict[j]), or compute it on your own"
   ]
  },
  {
   "cell_type": "code",
   "execution_count": 14,
   "metadata": {},
   "outputs": [
    {
     "name": "stdout",
     "output_type": "stream",
     "text": [
      "True\n"
     ]
    }
   ],
   "source": [
    "avg_mat = myGraph.get_bicm_matrix()\n",
    "print(avg_mat[0, 0] == x[0] * y[0] / (1 + x[0] * y[0]))"
   ]
  },
  {
   "cell_type": "code",
   "execution_count": 15,
   "metadata": {},
   "outputs": [
    {
     "name": "stdout",
     "output_type": "stream",
     "text": [
      "True\n"
     ]
    }
   ],
   "source": [
    "avg_mat = bicm_from_fitnesses(x, y)\n",
    "print(avg_mat[0, 0] == x[0] * y[0] / (1 + x[0] * y[0]))"
   ]
  },
  {
   "cell_type": "markdown",
   "metadata": {},
   "source": [
    "And, if you like, you can check the solution by yourself:"
   ]
  },
  {
   "cell_type": "code",
   "execution_count": 16,
   "metadata": {},
   "outputs": [
    {
     "name": "stdout",
     "output_type": "stream",
     "text": [
      "max rows error = 7.144596025909777e-10\n",
      "max columns error = 2.1846062736585736e-09\n",
      "total error = 9.57038759352713e-09\n"
     ]
    }
   ],
   "source": [
    "# The data type conversions are generally consistent with the order, so this works\n",
    "myGraph.check_sol(biad_mat, avg_mat)"
   ]
  },
  {
   "cell_type": "markdown",
   "metadata": {},
   "source": [
    "You can then sample from the BiCM ensemble in two ways, via matrix sampling or edgelist sampling."
   ]
  },
  {
   "cell_type": "code",
   "execution_count": 17,
   "metadata": {},
   "outputs": [],
   "source": [
    "# Here we generate a sampling of 1000 networks and calculate the distribution of the number of links.\n",
    "tot_links = []\n",
    "for sample_i in range(1000):\n",
    "    sampled_network = sample_bicm(avg_mat)\n",
    "    tot_links.append(np.sum(sampled_network))"
   ]
  },
  {
   "cell_type": "code",
   "execution_count": 18,
   "metadata": {},
   "outputs": [],
   "source": [
    "sampled_edgelist = sample_bicm_edgelist(x, y)"
   ]
  },
  {
   "cell_type": "markdown",
   "metadata": {},
   "source": [
    "Now let's compute the projection: it can take some seconds."
   ]
  },
  {
   "cell_type": "code",
   "execution_count": 19,
   "metadata": {},
   "outputs": [
    {
     "name": "stderr",
     "output_type": "stream",
     "text": [
      "100%|██████████████████████████████████████████████████████████████████████████████████████████████████████████████████████████████████████████████████████████████████████████████████████████████████████████████████████████████████████████████████| 131/131 [00:00<00:00, 566.11it/s]"
     ]
    },
    {
     "name": "stdout",
     "output_type": "stream",
     "text": [
      "{'\"Astragalus monspessulanus\"': ['\"Biscutella didyma\"'], '\"Asphodelus aestivus\"': ['\"Astragalus monspessulanus\"', '\"Biscutella didyma\"'], '\"Heliotropium dolosum\"': ['\"Hypochoeris achyrophorus\"'], '\"Centaurea raphanina\"': ['\"Echinops microcephalus\"', '\"Fumana thymifolia\"'], '\"Echinops microcephalus\"': ['\"Fumana thymifolia\"'], '\"Carduus pycnocephalus\"': ['\"Hirschfeldia incana\"'], '\"Fritillaria graeca\"': ['\"Heliotropium dolosum\"', '\"Hypochoeris achyrophorus\"'], '\"Phlomis fructicosa\"': ['\"Plantago lagopus\"', '\"Prasium majus\"'], '\"Fumana arabica\"': ['\"Papaver rhoeas\"'], '\"Plantago lagopus\"': ['\"Prasium majus\"']}\n"
     ]
    },
    {
     "name": "stderr",
     "output_type": "stream",
     "text": [
      "\n"
     ]
    }
   ],
   "source": [
    "rows_projection = myGraph.get_rows_projection()\n",
    "print(rows_projection)"
   ]
  },
  {
   "cell_type": "markdown",
   "metadata": {},
   "source": [
    "If you don't want to get the progress_bar you can set progress_bar=False. If you want to re-compute the projection with different settings (here a lower validation threshold), use compute_projection()"
   ]
  },
  {
   "cell_type": "code",
   "execution_count": 20,
   "metadata": {},
   "outputs": [],
   "source": [
    "myGraph.compute_projection(rows=True, alpha=0.01, progress_bar=False)"
   ]
  },
  {
   "cell_type": "code",
   "execution_count": 21,
   "metadata": {},
   "outputs": [
    {
     "name": "stdout",
     "output_type": "stream",
     "text": [
      "You can ask for an edgelist instead of an adjacency list by setting fmt=\"edgelist\"\n",
      "[['\"Astragalus monspessulanus\"' '\"Biscutella didyma\"']\n",
      " ['\"Asphodelus aestivus\"' '\"Astragalus monspessulanus\"']\n",
      " ['\"Asphodelus aestivus\"' '\"Biscutella didyma\"']\n",
      " ['\"Centaurea raphanina\"' '\"Echinops microcephalus\"']\n",
      " ['\"Centaurea raphanina\"' '\"Fumana thymifolia\"']\n",
      " ['\"Echinops microcephalus\"' '\"Fumana thymifolia\"']\n",
      " ['\"Phlomis fructicosa\"' '\"Plantago lagopus\"']\n",
      " ['\"Phlomis fructicosa\"' '\"Prasium majus\"']\n",
      " ['\"Fumana arabica\"' '\"Papaver rhoeas\"']\n",
      " ['\"Plantago lagopus\"' '\"Prasium majus\"']]\n"
     ]
    }
   ],
   "source": [
    "# You can ask for an edgelist instead of an adjacency list by setting fmt=\"edgelist\"\n",
    "print('You can ask for an edgelist instead of an adjacency list by setting fmt=\"edgelist\"')\n",
    "\n",
    "rows_projection = myGraph.get_rows_projection(fmt='edgelist')\n",
    "print(rows_projection)"
   ]
  },
  {
   "cell_type": "markdown",
   "metadata": {},
   "source": [
    "These projection only contain links between nodes that behave similarly with respect to the expected behavior calculated from the BiCM. They could also be empty:"
   ]
  },
  {
   "cell_type": "code",
   "execution_count": 22,
   "metadata": {},
   "outputs": [
    {
     "name": "stderr",
     "output_type": "stream",
     "text": [
      "100%|██████████████████████████████████████████████████████████████████████████████████████████████████████████████████████████████████████████████████████████████████████████████████████████████████████████████████████████████████████████████████| 666/666 [00:00<00:00, 792.70it/s]\n"
     ]
    },
    {
     "name": "stdout",
     "output_type": "stream",
     "text": [
      "No V-motifs will be validated. Try increasing alpha\n"
     ]
    }
   ],
   "source": [
    "cols_projection = myGraph.get_cols_projection()"
   ]
  },
  {
   "cell_type": "code",
   "execution_count": 23,
   "metadata": {},
   "outputs": [
    {
     "name": "stderr",
     "output_type": "stream",
     "text": [
      "100%|██████████████████████████████████████████████████████████████████████████████████████████████████████████████████████████████████████████████████████████████████████████████████████████████████████████████████████████████████████████████████| 666/666 [00:01<00:00, 454.79it/s]\n"
     ]
    },
    {
     "name": "stdout",
     "output_type": "stream",
     "text": [
      "No V-motifs will be validated. Try increasing alpha\n"
     ]
    }
   ],
   "source": [
    "# Increasing alpha too much will make the projection too dense. \n",
    "# It is not suggested: if it is empty with a high alpha, try different projections.\n",
    "# Check the documentation and the papers for more info.\n",
    "myGraph.compute_projection(rows=False, alpha=0.2)"
   ]
  },
  {
   "cell_type": "markdown",
   "metadata": {},
   "source": [
    "Different projection methods are implemented. \n",
    "They differ in the way of approximating the poisson-binomial distribution of the similarities between nodes.\n",
    "By default, the poisson approximation is used, since the poisson binomial is very expensive to compute. Check the docs for more!\n",
    "Here, an example of the poibin implementation. This can take even some minutes, and it's faster when using a biadjacency matrix instead of other data types. Note that the poisson approximation is fairly good."
   ]
  },
  {
   "cell_type": "code",
   "execution_count": 24,
   "metadata": {},
   "outputs": [
    {
     "name": "stdout",
     "output_type": "stream",
     "text": [
      "\"method\" is deprecated, use approx_method instead\n",
      "Calculating p-values...\n"
     ]
    },
    {
     "name": "stderr",
     "output_type": "stream",
     "text": [
      "100%|█████████████████████████████████████████████████████████████████████████████████████████████████████████████████████████████████████████████████████████████████████████████████████████████████████████████████████████████████████████████████| 1225/1225 [00:15<00:00, 79.07it/s]\n"
     ]
    },
    {
     "name": "stdout",
     "output_type": "stream",
     "text": [
      "{'\"Astragalus monspessulanus\"': ['\"Biscutella didyma\"'], '\"Asphodelus aestivus\"': ['\"Astragalus monspessulanus\"', '\"Biscutella didyma\"'], '\"Heliotropium dolosum\"': ['\"Hypochoeris achyrophorus\"'], '\"Centaurea raphanina\"': ['\"Echinops microcephalus\"', '\"Fumana thymifolia\"'], '\"Echinops microcephalus\"': ['\"Fumana thymifolia\"'], '\"Carduus pycnocephalus\"': ['\"Hirschfeldia incana\"'], '\"Fritillaria graeca\"': ['\"Heliotropium dolosum\"', '\"Hypochoeris achyrophorus\"'], '\"Phlomis fructicosa\"': ['\"Plantago lagopus\"', '\"Prasium majus\"'], '\"Ophrys tenthredinifera\"': ['\"Papaver rhoeas\"'], '\"Fumana arabica\"': ['\"Papaver rhoeas\"'], '\"Plantago lagopus\"': ['\"Prasium majus\"'], '\"Euphorbia acanthothamnos\"': ['\"Geranium rotundifolium\"']}\n"
     ]
    }
   ],
   "source": [
    "myGraph.compute_projection(rows=True, method='poibin')\n",
    "rows_projection = myGraph.get_rows_projection()\n",
    "print(rows_projection)"
   ]
  },
  {
   "cell_type": "markdown",
   "metadata": {},
   "source": [
    "Now, let's have fun with other data structures and solver methods."
   ]
  },
  {
   "cell_type": "code",
   "execution_count": 25,
   "metadata": {},
   "outputs": [],
   "source": [
    "adj_list_names = adjacency_list_from_edgelist_bipartite(edgelist_names, convert_type=False)[0]"
   ]
  },
  {
   "cell_type": "code",
   "execution_count": 26,
   "metadata": {},
   "outputs": [],
   "source": [
    "myGraph2 = BipartiteGraph(adjacency_list=adj_list_names)"
   ]
  },
  {
   "cell_type": "markdown",
   "metadata": {},
   "source": [
    "Asking for the projection immediately will do everything automatically."
   ]
  },
  {
   "cell_type": "code",
   "execution_count": 27,
   "metadata": {},
   "outputs": [
    {
     "name": "stdout",
     "output_type": "stream",
     "text": [
      "First I have to compute the BiCM. Computing...\n",
      "max rows error = 7.144598246355827e-10\n",
      "max columns error = 2.1845778519491432e-09\n",
      "total error = 4.569068901005835e-09\n",
      "Solver converged.\n"
     ]
    },
    {
     "name": "stderr",
     "output_type": "stream",
     "text": [
      "/home/matteo/miniconda3/envs/bicm/lib/python3.10/site-packages/numba/core/utils.py:612: NumbaExperimentalFeatureWarning: First-class function type feature is experimental\n",
      "  warnings.warn(\"First-class function type feature is experimental\",\n",
      "100%|██████████████████████████████████████████████████████████████████████████████████████████████████████████████████████████████████████████████████████████████████████████████████████████████████████████████████████████████████████████████████| 131/131 [00:00<00:00, 427.94it/s]\n"
     ]
    },
    {
     "data": {
      "text/plain": [
       "{'\"Asphodelus aestivus\"': ['\"Astragalus monspessulanus\"',\n",
       "  '\"Biscutella didyma\"'],\n",
       " '\"Astragalus monspessulanus\"': ['\"Biscutella didyma\"'],\n",
       " '\"Carduus pycnocephalus\"': ['\"Hirschfeldia incana\"'],\n",
       " '\"Centaurea raphanina\"': ['\"Echinops microcephalus\"', '\"Fumana thymifolia\"'],\n",
       " '\"Echinops microcephalus\"': ['\"Fumana thymifolia\"'],\n",
       " '\"Fritillaria graeca\"': ['\"Heliotropium dolosum\"',\n",
       "  '\"Hypochoeris achyrophorus\"'],\n",
       " '\"Fumana arabica\"': ['\"Papaver rhoeas\"'],\n",
       " '\"Heliotropium dolosum\"': ['\"Hypochoeris achyrophorus\"'],\n",
       " '\"Phlomis fructicosa\"': ['\"Plantago lagopus\"', '\"Prasium majus\"'],\n",
       " '\"Plantago lagopus\"': ['\"Prasium majus\"']}"
      ]
     },
     "execution_count": 27,
     "metadata": {},
     "output_type": "execute_result"
    }
   ],
   "source": [
    "myGraph2.get_rows_projection()"
   ]
  },
  {
   "cell_type": "code",
   "execution_count": 28,
   "metadata": {},
   "outputs": [],
   "source": [
    "rows_deg = biad_mat.sum(1)\n",
    "cols_deg = biad_mat.sum(0)"
   ]
  },
  {
   "cell_type": "code",
   "execution_count": 29,
   "metadata": {},
   "outputs": [],
   "source": [
    "myGraph3 = BipartiteGraph(degree_sequences=(rows_deg, cols_deg))"
   ]
  },
  {
   "cell_type": "markdown",
   "metadata": {},
   "source": [
    "Default (recommended) method is 'newton', three more methods are implemented"
   ]
  },
  {
   "cell_type": "code",
   "execution_count": 30,
   "metadata": {},
   "outputs": [
    {
     "name": "stdout",
     "output_type": "stream",
     "text": [
      "max rows error = 7.971934223860444e-09\n",
      "max columns error = 2.449649088021033e-07\n",
      "total error = 3.4629645728756486e-07\n",
      "Solver converged.\n"
     ]
    }
   ],
   "source": [
    "myGraph3.solve_tool(method='fixed-point', tol=1e-5, exp=True)"
   ]
  },
  {
   "cell_type": "code",
   "execution_count": 31,
   "metadata": {},
   "outputs": [
    {
     "name": "stderr",
     "output_type": "stream",
     "text": [
      "/home/matteo/miniconda3/envs/bicm/lib/python3.10/site-packages/numba/core/utils.py:612: NumbaExperimentalFeatureWarning: First-class function type feature is experimental\n",
      "  warnings.warn(\"First-class function type feature is experimental\",\n",
      "/home/matteo/miniconda3/envs/bicm/lib/python3.10/site-packages/bicm-3.1-py3.10.egg/bicm/models_functions.py:404: NumbaExperimentalFeatureWarning: First-class function type feature is experimental\n",
      "  step_fun = args[0]\n",
      "/home/matteo/miniconda3/envs/bicm/lib/python3.10/site-packages/bicm-3.1-py3.10.egg/bicm/models_functions.py:405: NumbaExperimentalFeatureWarning: First-class function type feature is experimental\n",
      "  arg_step_fun = args[1]\n"
     ]
    },
    {
     "name": "stdout",
     "output_type": "stream",
     "text": [
      "max rows error = 5.133965146342234e-07\n",
      "max columns error = 4.904201205135905e-07\n",
      "total error = 4.5348409931644795e-06\n",
      "Solver converged.\n"
     ]
    },
    {
     "name": "stderr",
     "output_type": "stream",
     "text": [
      "/home/matteo/miniconda3/envs/bicm/lib/python3.10/site-packages/numba/core/utils.py:612: NumbaExperimentalFeatureWarning: First-class function type feature is experimental\n",
      "  warnings.warn(\"First-class function type feature is experimental\",\n"
     ]
    }
   ],
   "source": [
    "myGraph3.solve_tool(method='quasinewton', tol=1e-12, exp=True)"
   ]
  },
  {
   "cell_type": "markdown",
   "metadata": {},
   "source": [
    "This is the only method that works with a scipy solver, not recommended."
   ]
  },
  {
   "cell_type": "code",
   "execution_count": 32,
   "metadata": {},
   "outputs": [
    {
     "name": "stdout",
     "output_type": "stream",
     "text": [
      "max rows error = 2.1316282072803006e-14\n",
      "max columns error = 7.105427357601002e-15\n",
      "total error = 2.0605739337042905e-13\n",
      "Solver converged.\n"
     ]
    }
   ],
   "source": [
    "myGraph3.solve_tool(method='root')"
   ]
  },
  {
   "cell_type": "markdown",
   "metadata": {},
   "source": [
    "If you want to retrieve the p-values of the projection on one layer, just call the pvals on the object after the computation:"
   ]
  },
  {
   "cell_type": "code",
   "execution_count": 33,
   "metadata": {},
   "outputs": [
    {
     "name": "stderr",
     "output_type": "stream",
     "text": [
      "100%|██████████████████████████████████████████████████████████████████████████████████████████████████████████████████████████████████████████████████████████████████████████████████████████████████████████████████████████████████████████████████| 131/131 [00:00<00:00, 401.54it/s]\n"
     ]
    }
   ],
   "source": [
    "# Use the rows arg to project on the rows or columns\n",
    "myGraph2.compute_projection()\n",
    "pval_adj_list = myGraph2.rows_pvals"
   ]
  },
  {
   "cell_type": "markdown",
   "metadata": {},
   "source": [
    "Keep in mind that the p-values are an adjacency list as well. You can now obtain the full matrix:"
   ]
  },
  {
   "cell_type": "code",
   "execution_count": 34,
   "metadata": {},
   "outputs": [
    {
     "name": "stdout",
     "output_type": "stream",
     "text": [
      "Please specify the layer with layer='rows' or layer='columns'.\n"
     ]
    }
   ],
   "source": [
    "myGraph.get_projected_pvals_mat()"
   ]
  },
  {
   "cell_type": "code",
   "execution_count": 35,
   "metadata": {},
   "outputs": [
    {
     "data": {
      "text/plain": [
       "array([[1.        , 0.47139158, 0.33940164, ..., 0.59288338, 0.59288338,\n",
       "        1.        ],\n",
       "       [0.47139158, 1.        , 0.03280358, ..., 1.        , 1.        ,\n",
       "        0.36232276],\n",
       "       [0.33940164, 0.03280358, 1.        , ..., 1.        , 1.        ,\n",
       "        1.        ],\n",
       "       ...,\n",
       "       [0.59288338, 1.        , 1.        , ..., 1.        , 1.        ,\n",
       "        1.        ],\n",
       "       [0.59288338, 1.        , 1.        , ..., 1.        , 1.        ,\n",
       "        1.        ],\n",
       "       [1.        , 0.36232276, 1.        , ..., 1.        , 1.        ,\n",
       "        1.        ]])"
      ]
     },
     "execution_count": 35,
     "metadata": {},
     "output_type": "execute_result"
    }
   ],
   "source": [
    "myGraph.get_projected_pvals_mat(layer='columns')"
   ]
  },
  {
   "cell_type": "code",
   "execution_count": 36,
   "metadata": {},
   "outputs": [
    {
     "data": {
      "text/plain": [
       "array([[1.        , 0.99905974, 1.        , ..., 0.66448969, 0.42182595,\n",
       "        0.42182595],\n",
       "       [0.99905974, 1.        , 0.0942629 , ..., 0.56831711, 1.        ,\n",
       "        0.3471088 ],\n",
       "       [1.        , 0.0942629 , 1.        , ..., 0.55375732, 1.        ,\n",
       "        0.33657006],\n",
       "       ...,\n",
       "       [0.66448969, 0.56831711, 0.55375732, ..., 1.        , 1.        ,\n",
       "        0.07294914],\n",
       "       [0.42182595, 1.        , 1.        , ..., 1.        , 1.        ,\n",
       "        1.        ],\n",
       "       [0.42182595, 0.3471088 , 0.33657006, ..., 0.07294914, 1.        ,\n",
       "        1.        ]])"
      ]
     },
     "execution_count": 36,
     "metadata": {},
     "output_type": "execute_result"
    }
   ],
   "source": [
    "myGraph.get_projected_pvals_mat(layer='rows')"
   ]
  },
  {
   "cell_type": "code",
   "execution_count": null,
   "metadata": {},
   "outputs": [],
   "source": []
  },
  {
   "cell_type": "code",
   "execution_count": null,
   "metadata": {},
   "outputs": [],
   "source": []
  },
  {
   "cell_type": "code",
   "execution_count": null,
   "metadata": {},
   "outputs": [],
   "source": []
  }
 ],
 "metadata": {
  "kernelspec": {
   "display_name": "bicm",
   "language": "python",
   "name": "bicm"
  },
  "language_info": {
   "codemirror_mode": {
    "name": "ipython",
    "version": 3
   },
   "file_extension": ".py",
   "mimetype": "text/x-python",
   "name": "python",
   "nbconvert_exporter": "python",
   "pygments_lexer": "ipython3",
   "version": "3.10.2"
  }
 },
 "nbformat": 4,
 "nbformat_minor": 4
}
